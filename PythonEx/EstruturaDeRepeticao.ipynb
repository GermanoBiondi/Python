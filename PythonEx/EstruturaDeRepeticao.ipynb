{
  "nbformat": 4,
  "nbformat_minor": 0,
  "metadata": {
    "colab": {
      "provenance": [],
      "authorship_tag": "ABX9TyN0NSF+fufof13wvP/dAqEf",
      "include_colab_link": true
    },
    "kernelspec": {
      "name": "python3",
      "display_name": "Python 3"
    },
    "language_info": {
      "name": "python"
    }
  },
  "cells": [
    {
      "cell_type": "markdown",
      "metadata": {
        "id": "view-in-github",
        "colab_type": "text"
      },
      "source": [
        "<a href=\"https://colab.research.google.com/github/GermanoBiondi/PythonEx/blob/main/EstruturaDeRepeticao.ipynb\" target=\"_parent\"><img src=\"https://colab.research.google.com/assets/colab-badge.svg\" alt=\"Open In Colab\"/></a>"
      ]
    },
    {
      "cell_type": "code",
      "execution_count": 6,
      "metadata": {
        "colab": {
          "base_uri": "https://localhost:8080/"
        },
        "id": "jXgbehfh7QWA",
        "outputId": "e0da94ca-7d01-48ca-d4db-d7ca51811e1a"
      },
      "outputs": [
        {
          "output_type": "stream",
          "name": "stdout",
          "text": [
            "Digite uma nota entre zero e dez: 16\n",
            "Valor inválido. A nota deve estar entre zero e dez.\n",
            "Digite uma nota entre zero e dez: 18\n",
            "Valor inválido. A nota deve estar entre zero e dez.\n",
            "Digite uma nota entre zero e dez: 10\n",
            "Você inseriu a nota 10.\n"
          ]
        }
      ],
      "source": [
        "# Ex 1\n",
        "# Faça um programa que peça uma nota, entre zero e dez.\n",
        "# Mostre uma mensagem caso o valor seja inválido\n",
        "# e continue pedindo até que o usuário informe um valor válido.\n",
        "\n",
        "while True:\n",
        "    nota = int(input(\"Digite uma nota entre zero e dez: \"))\n",
        "    if 0 <= nota <= 10:\n",
        "        break\n",
        "    else:\n",
        "        print(\"Valor inválido. A nota deve estar entre zero e dez.\")\n",
        "\n",
        "print(f\"Você inseriu a nota {nota}.\")\n"
      ]
    },
    {
      "cell_type": "code",
      "source": [
        "# Ex 2\n",
        "# Faça um programa que leia um nome de usuário e a sua senha\n",
        "# E não aceite a senha igual ao nome do usuário,\n",
        "# mostrando uma mensagem de erro e voltando a pedir as informações.\n",
        "\n",
        "while True:\n",
        "    nome_usuario = input(\"Digite o nome de usuário: \")\n",
        "    senha = input(\"Digite a senha: \")\n",
        "\n",
        "    if senha != nome_usuario:\n",
        "        print(\"Cadastro realizado com sucesso!\")\n",
        "        break\n",
        "    else:\n",
        "        print(\"Erro: a senha não pode ser igual ao nome de usuário. Por favor, tente novamente.\")"
      ],
      "metadata": {
        "colab": {
          "base_uri": "https://localhost:8080/"
        },
        "id": "kU6Y7lk6-Pct",
        "outputId": "90080e9d-3bb8-480c-9695-5f80a82444d7"
      },
      "execution_count": 7,
      "outputs": [
        {
          "output_type": "stream",
          "name": "stdout",
          "text": [
            "Digite o nome de usuário: AAAAA\n",
            "Digite a senha: AAAAA\n",
            "Erro: a senha não pode ser igual ao nome de usuário. Por favor, tente novamente.\n",
            "Digite o nome de usuário: AAAAA\n",
            "Digite a senha: aaaaa\n",
            "Cadastro realizado com sucesso!\n"
          ]
        }
      ]
    },
    {
      "cell_type": "code",
      "source": [
        "# Ex 3\n",
        "# Faça um programa que leia e valide as seguintes informações:\n",
        "# Nome: maior que 3 caracteres;\n",
        "# Idade: entre 0 e 150;\n",
        "# Salário: maior que zero;\n",
        "# Sexo: 'f' ou 'm';\n",
        "# Estado Civil: 's', 'c', 'v', 'd';\n",
        "\n",
        "def validar_nome(nome):\n",
        "    return len(nome) > 3\n",
        "\n",
        "def validar_idade(idade):\n",
        "    return 0 <= idade <= 150\n",
        "\n",
        "def validar_salario(salario):\n",
        "    return salario > 0\n",
        "\n",
        "def validar_sexo(sexo):\n",
        "    return sexo in ['f', 'm']\n",
        "\n",
        "def validar_estado_civil(estado_civil):\n",
        "    return estado_civil in ['s', 'c', 'v', 'd']\n",
        "\n",
        "def main():\n",
        "    while True:\n",
        "        nome = input(\"Digite o nome: \")\n",
        "        if validar_nome(nome):\n",
        "            break\n",
        "        else:\n",
        "            print(\"Nome deve ter mais que 3 caracteres.\")\n",
        "\n",
        "    while True:\n",
        "        idade = int(input(\"Digite a idade: \"))\n",
        "        if validar_idade(idade):\n",
        "            break\n",
        "        else:\n",
        "            print(\"Idade deve estar entre 0 e 150.\")\n",
        "\n",
        "    while True:\n",
        "        salario = float(input(\"Digite o salário: \"))\n",
        "        if validar_salario(salario):\n",
        "            break\n",
        "        else:\n",
        "            print(\"Salário deve ser maior que zero.\")\n",
        "\n",
        "    while True:\n",
        "        sexo = input(\"Digite o sexo (f/m): \")\n",
        "        if validar_sexo(sexo):\n",
        "            break\n",
        "        else:\n",
        "            print(\"Sexo deve ser 'f' ou 'm'.\")\n",
        "\n",
        "    while True:\n",
        "        estado_civil = input(\"Digite o estado civil (s/c/v/d): \")\n",
        "        if validar_estado_civil(estado_civil):\n",
        "            break\n",
        "        else:\n",
        "            print(\"Estado civil deve ser 's', 'c', 'v' ou 'd'.\")\n",
        "\n",
        "    print(\"Informações válidas:\")\n",
        "    print(f\"Nome: {nome}\")\n",
        "    print(f\"Idade: {idade}\")\n",
        "    print(f\"Salário: {salario}\")\n",
        "    print(f\"Sexo: {sexo}\")\n",
        "    print(f\"Estado Civil: {estado_civil}\")\n",
        "\n",
        "if __name__ == \"__main__\":\n",
        "    main()\n"
      ],
      "metadata": {
        "colab": {
          "base_uri": "https://localhost:8080/"
        },
        "id": "VcIWHedc-0sJ",
        "outputId": "6057828e-1d69-490c-e94d-6d0ead612210"
      },
      "execution_count": 8,
      "outputs": [
        {
          "output_type": "stream",
          "name": "stdout",
          "text": [
            "Digite o nome: Aa\n",
            "Nome deve ter mais que 3 caracteres.\n",
            "Digite o nome: aaaa\n",
            "Digite a idade: 64\n",
            "Digite o salário: 54643\n",
            "Digite o sexo (f/m): m\n",
            "Digite o estado civil (s/c/v/d): d\n",
            "Informações válidas:\n",
            "Nome: aaaa\n",
            "Idade: 64\n",
            "Salário: 54643.0\n",
            "Sexo: m\n",
            "Estado Civil: d\n"
          ]
        }
      ]
    },
    {
      "cell_type": "code",
      "source": [
        "# Ex 4\n",
        "# Supondo que a população de um país A seja da ordem de 80000 habitantes\n",
        "# com uma taxa anual de crescimento de 3%\n",
        "# E que a população de B seja 200000 habitantes com uma taxa de crescimento de 1.5%.\n",
        "# Faça um programa que calcule e escreva o número de anos necessários\n",
        "# para que a população do país A ultrapasse ou iguale a população do país B,\n",
        "# mantidas as taxas de crescimento.\n",
        "\n",
        "a = 80000\n",
        "b = 200000\n",
        "ta = 0.03\n",
        "tb = 0.015\n",
        "anos = 0\n",
        "\n",
        "while a <= b:\n",
        "  a *= (1 + ta)\n",
        "  b *= (1 + tb)\n",
        "  anos +=1\n",
        "\n",
        "print(f\"Sera necessario {anos} anos para a populacao ser igual ou passar\")"
      ],
      "metadata": {
        "colab": {
          "base_uri": "https://localhost:8080/"
        },
        "id": "Tqbch7WkXNAV",
        "outputId": "0d2db2e1-9f9f-41cb-c601-b9a47510da78"
      },
      "execution_count": 12,
      "outputs": [
        {
          "output_type": "stream",
          "name": "stdout",
          "text": [
            "Sera necessario 63 anos para a populacao ser igual ou passar\n"
          ]
        }
      ]
    },
    {
      "cell_type": "code",
      "source": [
        "# Ex 5\n",
        "# Altere o programa anterior\n",
        "# permitindo ao usuário informar as populações e as taxas de crescimento iniciais.\n",
        "# Valide a entrada e permita repetir a operação.\n",
        "\n",
        "a = int(input(\"Populacao da cidade A: \"))\n",
        "b = int(input(\"Populacao da cidade B: \"))\n",
        "ta = float(input(\"A taxa de crescimento da cidade A: \"))\n",
        "tb = float(input(\"A taxa de crescimento da cidade B: \"))\n",
        "anos = 0\n",
        "\n",
        "while a <= b:\n",
        "  a *= (1 + ta)\n",
        "  b *= (1 + tb)\n",
        "  anos +=1\n",
        "\n",
        "print(f\"Sera necessario {anos} anos para a populacao ser igual ou passar\")"
      ],
      "metadata": {
        "colab": {
          "base_uri": "https://localhost:8080/"
        },
        "id": "Uew_7X-xYf4W",
        "outputId": "1d86e001-7060-4a0d-9b61-6d2d730f83b7"
      },
      "execution_count": 13,
      "outputs": [
        {
          "output_type": "stream",
          "name": "stdout",
          "text": [
            " Populacao da cidade A:500000\n",
            " Populacao da cidade B:50000000\n",
            "A taxa de crescimento da cidade A: 20\n",
            "A taxa de crescimento da cidade B: 5\n",
            "Sera necessario 4 anos para a populacao ser igual ou passar\n"
          ]
        }
      ]
    },
    {
      "cell_type": "code",
      "source": [
        "# Ex 6\n",
        "#Faça um programa que imprima na tela os números de 1 a 20, um abaixo do outro.\n",
        "# Depois modifique o programa para que ele mostre os números um ao lado do outro.\n",
        "\n",
        "num = 0\n",
        "\n",
        "for num in range(1, 21):\n",
        "  print(num)\n",
        "\n",
        "for num in range(1, 21):\n",
        "  print(num, end=\" \")"
      ],
      "metadata": {
        "colab": {
          "base_uri": "https://localhost:8080/"
        },
        "id": "ncNX7C-tZBU0",
        "outputId": "0009aa1e-ab21-4c84-f6cd-a4d6d3226874"
      },
      "execution_count": 16,
      "outputs": [
        {
          "output_type": "stream",
          "name": "stdout",
          "text": [
            "1\n",
            "2\n",
            "3\n",
            "4\n",
            "5\n",
            "6\n",
            "7\n",
            "8\n",
            "9\n",
            "10\n",
            "11\n",
            "12\n",
            "13\n",
            "14\n",
            "15\n",
            "16\n",
            "17\n",
            "18\n",
            "19\n",
            "20\n",
            "1 2 3 4 5 6 7 8 9 10 11 12 13 14 15 16 17 18 19 20 "
          ]
        }
      ]
    },
    {
      "cell_type": "code",
      "source": [
        "# Ex 7\n",
        "# Faça um programa que leia 5 números e informe o maior números.\n",
        "numeros = []\n",
        "\n",
        "for numero in range (5):\n",
        "\n",
        "  numero = int(input(f\"Digite o {numero+1}º numero: \"))\n",
        "  numeros.append(numero)\n",
        "\n",
        "maior_numero = max(numeros)\n",
        "print(f\"O maior numero e: {maior_numero}\")\n",
        "\n"
      ],
      "metadata": {
        "colab": {
          "base_uri": "https://localhost:8080/"
        },
        "id": "1x3zoON1aTyd",
        "outputId": "1854b099-54a7-4020-98c3-50e9dc0f78a4"
      },
      "execution_count": 25,
      "outputs": [
        {
          "output_type": "stream",
          "name": "stdout",
          "text": [
            "Digite o 1º numero: 1\n",
            "Digite o 2º numero: 2\n",
            "Digite o 3º numero: 3\n",
            "Digite o 4º numero: 4\n",
            "Digite o 5º numero: 5\n",
            "O maior numero e: 5\n"
          ]
        }
      ]
    },
    {
      "cell_type": "code",
      "source": [
        "# Ex 8\n",
        "# Faça um programa que leia 5 números e informe a soma e a média dos números.\n",
        "\n",
        "numeros = []\n",
        "\n",
        "for numero in range (5):\n",
        "\n",
        "  numero = int(input(f\"Digite o {numero+1}º numero: \"))\n",
        "  numeros.append(numero)\n",
        "\n",
        "soma = sum(numeros)\n",
        "media = soma / len(numeros)\n",
        "\n",
        "print(f\"Soma dos numeros: {soma}\")\n",
        "print(f\"Media dos numeros: {media}\")"
      ],
      "metadata": {
        "colab": {
          "base_uri": "https://localhost:8080/"
        },
        "id": "CCCNs3XtbxLh",
        "outputId": "f18cd41c-51fb-474b-b681-08b2d04e5f24"
      },
      "execution_count": 27,
      "outputs": [
        {
          "output_type": "stream",
          "name": "stdout",
          "text": [
            "Digite o 1º numero: 1\n",
            "Digite o 2º numero: 2\n",
            "Digite o 3º numero: 3\n",
            "Digite o 4º numero: 4\n",
            "Digite o 5º numero: 5\n",
            "Soma dos numeros: 15\n",
            "Media dos numeros: 3.0\n"
          ]
        }
      ]
    }
  ]
}
