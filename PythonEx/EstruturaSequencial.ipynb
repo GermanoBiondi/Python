{
  "nbformat": 4,
  "nbformat_minor": 0,
  "metadata": {
    "colab": {
      "provenance": [],
      "authorship_tag": "ABX9TyP91I+FxuJ4ueceygL1PJ7r",
      "include_colab_link": true
    },
    "kernelspec": {
      "name": "python3",
      "display_name": "Python 3"
    },
    "language_info": {
      "name": "python"
    }
  },
  "cells": [
    {
      "cell_type": "markdown",
      "metadata": {
        "id": "view-in-github",
        "colab_type": "text"
      },
      "source": [
        "<a href=\"https://colab.research.google.com/github/GermanoBiondi/PythonEx/blob/main/EstruturaSequencial.ipynb\" target=\"_parent\"><img src=\"https://colab.research.google.com/assets/colab-badge.svg\" alt=\"Open In Colab\"/></a>"
      ]
    },
    {
      "cell_type": "code",
      "source": [
        "import numpy as np"
      ],
      "metadata": {
        "id": "4MtD8Hv6tqc5"
      },
      "execution_count": null,
      "outputs": []
    },
    {
      "cell_type": "code",
      "execution_count": null,
      "metadata": {
        "colab": {
          "base_uri": "https://localhost:8080/"
        },
        "id": "jZKKWqm6pXbg",
        "outputId": "5c7b74e4-d51a-4c0a-ae28-30e75ea6dae6"
      },
      "outputs": [
        {
          "output_type": "stream",
          "name": "stdout",
          "text": [
            "Hello World!\n"
          ]
        }
      ],
      "source": [
        "# Ex 1\n",
        "# Faça um Programa que mostre a mensagem \"Alo mundo\" na tela.\n",
        "\n",
        "print(\"Hello World!\")"
      ]
    },
    {
      "cell_type": "code",
      "source": [
        "# Ex 2\n",
        "# Faça um Programa que peça um número e então mostre a mensagem O número informado foi [número].\n",
        "\n",
        "n1 = input(\"Numero: \")\n",
        "print(f\"O Numero e {n1}\")"
      ],
      "metadata": {
        "colab": {
          "base_uri": "https://localhost:8080/"
        },
        "id": "bJb6pYQKp-jZ",
        "outputId": "d6446101-a4db-4a0d-a654-47444bc0219f"
      },
      "execution_count": null,
      "outputs": [
        {
          "output_type": "stream",
          "name": "stdout",
          "text": [
            "Numero 1: 1\n",
            "O Numero e 1\n"
          ]
        }
      ]
    },
    {
      "cell_type": "code",
      "source": [
        "# Ex 3\n",
        "# Faça um Programa que peça dois números e imprima a soma.\n",
        "n1 = int(input(\"1 numero: \"))\n",
        "n2 = int(input(\"2 numero: \"))\n",
        "soma = n1 + n2\n",
        "print(f\"A soma dos dois numeros e {soma}\")"
      ],
      "metadata": {
        "colab": {
          "base_uri": "https://localhost:8080/"
        },
        "id": "P7pLQCM4q04p",
        "outputId": "de9ff65b-4230-4854-8ec4-fd874ffe96aa"
      },
      "execution_count": null,
      "outputs": [
        {
          "output_type": "stream",
          "name": "stdout",
          "text": [
            "1 numero: 2\n",
            "2 numero: 4\n",
            "A soma dos dois numeros e 6\n"
          ]
        }
      ]
    },
    {
      "cell_type": "code",
      "source": [
        "# Ex 4\n",
        "# Faça um Programa que peça as 4 notas bimestrais e mostre a média\n",
        "\n",
        "nota1 = float(input(\"Primeira Nota: \"))\n",
        "nota2 = float(input(\"Segunda Nota: \"))\n",
        "nota3 = float(input(\"Terceira Nota: \"))\n",
        "nota4 = float(input(\"Qaurta Nota: \"))\n",
        "\n",
        "media = (nota1 + nota2 + nota3 + nota4)/4\n",
        "\n",
        "print(f\"A media das notas sao: {media}\")"
      ],
      "metadata": {
        "colab": {
          "base_uri": "https://localhost:8080/"
        },
        "id": "LljvIc44rjVS",
        "outputId": "32852ce6-2eec-470a-9791-fb5221cfa829"
      },
      "execution_count": null,
      "outputs": [
        {
          "output_type": "stream",
          "name": "stdout",
          "text": [
            "Primeira Nota: 5\n",
            "Segunda Nota: 8\n",
            "Terceira Nota: 6\n",
            "Qaurta Nota: 7\n",
            "A media das notas sao: 6.5\n"
          ]
        }
      ]
    },
    {
      "cell_type": "code",
      "source": [
        "# Ex 5\n",
        "# Faça um Programa que converta metros para centímetros.\n",
        "\n",
        "metros = float(input(\"Valor em metros: \"))\n",
        "\n",
        "centimetros = metros * 1000\n",
        "\n",
        "print(f\"O valpor em centimetros e: {centimetros}\")\n"
      ],
      "metadata": {
        "colab": {
          "base_uri": "https://localhost:8080/"
        },
        "id": "7HfbhXwvsB-F",
        "outputId": "9617472b-8296-47df-fab8-04745d1f3580"
      },
      "execution_count": null,
      "outputs": [
        {
          "output_type": "stream",
          "name": "stdout",
          "text": [
            "Valor em metros: 10\n",
            "O valpor em centimetros e: 10000.0\n"
          ]
        }
      ]
    },
    {
      "cell_type": "code",
      "source": [
        "# Ex 6\n",
        "# Faça um Programa que peça o raio de um círculo, calcule e mostre sua área.\n",
        "\n",
        "raio = float(input(\"Raio do Circulo: \"))\n",
        "\n",
        "area = np.pi * raio**2\n",
        "\n",
        "print(f\"A area do circulo e: {area:.2f}\")\n"
      ],
      "metadata": {
        "colab": {
          "base_uri": "https://localhost:8080/"
        },
        "id": "cIzEvem6tVZ5",
        "outputId": "61c38701-90c4-4364-f1f8-50c016a84ea8"
      },
      "execution_count": null,
      "outputs": [
        {
          "output_type": "stream",
          "name": "stdout",
          "text": [
            "Raio do Circulo: 10\n",
            "A area do circulo e: 314.16\n"
          ]
        }
      ]
    },
    {
      "cell_type": "code",
      "source": [
        "# Ex 7\n",
        "# Faça um Programa que calcule a área de um quadrado, em seguida mostre o dobro desta área para o usuário.\n",
        "\n",
        "lado = float(input(\"Valor do lado do quadrado: \"))\n",
        "\n",
        "area = (lado * lado) * 2\n",
        "\n",
        "print(f\"O dobro da area do quadrado e: {area}\")"
      ],
      "metadata": {
        "colab": {
          "base_uri": "https://localhost:8080/"
        },
        "id": "fqGNLdN_ufvd",
        "outputId": "eaa01d60-54c3-48b2-f2dc-d5652d3eee82"
      },
      "execution_count": null,
      "outputs": [
        {
          "output_type": "stream",
          "name": "stdout",
          "text": [
            "Valor do lado do quadrado: 10\n",
            "O dobro da area do quadrado e: 200.0\n"
          ]
        }
      ]
    },
    {
      "cell_type": "code",
      "source": [
        "# Ex 8\n",
        "# Faça um Programa que pergunte quanto você ganha por hora e o número de horas trabalhadas no mês. Calcule e mostre o total do seu salário no referido mês.\n",
        "\n",
        "salario = float(input(\"Valor recebido por hora: \"))\n",
        "horas = float(input(\"Horas trabalhadas: \"))\n",
        "\n",
        "valor = salario * horas\n",
        "\n",
        "print(f\"O salario do mes sera: {valor}\")"
      ],
      "metadata": {
        "colab": {
          "base_uri": "https://localhost:8080/"
        },
        "id": "o3wtXOTcvBMu",
        "outputId": "1fde7e74-3a0a-44f4-f5bc-bd780de13519"
      },
      "execution_count": null,
      "outputs": [
        {
          "output_type": "stream",
          "name": "stdout",
          "text": [
            "Valor recebido por hora: 100\n",
            "Horas trabalhadas: 10\n",
            "O salario do mes sera: 1000.0\n"
          ]
        }
      ]
    },
    {
      "cell_type": "code",
      "source": [
        "# Ex 9\n",
        "# Faça um Programa que peça a temperatura em graus Fahrenheit, transforme e mostre a temperatura em graus Celsius. -> C = 5 * ((F-32) / 9) <-\n",
        "\n",
        "fahrenheit = float(input(\"Digite o valor em Fahrenheit: \"))\n",
        "\n",
        "celsius = 5 * ( (fahrenheit-32) / 9)\n",
        "\n",
        "print(f\"O valor em Celsiu e: {celsius:.2f}\")"
      ],
      "metadata": {
        "colab": {
          "base_uri": "https://localhost:8080/"
        },
        "id": "FM7WrX1evo3F",
        "outputId": "aa1d11e3-2296-4cdb-c979-dfe771c1c09e"
      },
      "execution_count": null,
      "outputs": [
        {
          "output_type": "stream",
          "name": "stdout",
          "text": [
            "Digite o valor em Fahrenheit: 54\n",
            "O valor em Celsiu e: 12.22\n"
          ]
        }
      ]
    },
    {
      "cell_type": "code",
      "source": [
        "# Ex 10\n",
        "# Faça um Programa que peça a temperatura em graus Celsius, transforme e mostre em graus Fahrenheit. -> (0 °C × 9/5) + 32 = 32 °F <-\n",
        "\n",
        "celsius = float(input(\"Digite o valor em celsius: \"))\n",
        "\n",
        "fahrenheit = (celsius * 9/5) + 32\n",
        "\n",
        "print(f\"O valor em fahrenheit e: {fahrenheit:.2f}\")"
      ],
      "metadata": {
        "colab": {
          "base_uri": "https://localhost:8080/"
        },
        "id": "RSCKH4xaw3CJ",
        "outputId": "47eca373-973e-4b0b-a8e6-813876cdcf0f"
      },
      "execution_count": null,
      "outputs": [
        {
          "output_type": "stream",
          "name": "stdout",
          "text": [
            "Digite o valor em celsius: 10\n",
            "O valor em fahrenheit e: 50.00\n"
          ]
        }
      ]
    },
    {
      "cell_type": "code",
      "source": [
        "# Ex 11\n",
        "# Faça um Programa que peça 2 números inteiros e um número real. Calcule e mostre:\n",
        "# o produto do dobro do primeiro com metade do segundo .\n",
        "# a soma do triplo do primeiro com o terceiro.\n",
        "# o terceiro elevado ao cubo.\n",
        "\n",
        "inteiro1 = int(input(\"Primeiro numero inteiro: \"))\n",
        "inteiro2 = int(input(\"Segundo numero inteiro: \"))\n",
        "real = float(input(\"Numero real: \"))\n",
        "\n",
        "op1 = (inteiro1 * 2) + (inteiro2 / 2)\n",
        "op2 = (inteiro1 * 3) + real\n",
        "op3 = real ** 3\n",
        "\n",
        "print(f\"O produto do dobro do primeiro com metade do segundo: {op1}\")\n",
        "print(f\"A soma do triplo do primeiro com o terceiro: {op2}\")\n",
        "print(f\"O terceiro elevado ao cubo: {op3}\")"
      ],
      "metadata": {
        "colab": {
          "base_uri": "https://localhost:8080/"
        },
        "id": "m7XgoYtgz5YK",
        "outputId": "fb2d4d18-fc2c-4b4c-f36f-1974100f19c9"
      },
      "execution_count": null,
      "outputs": [
        {
          "output_type": "stream",
          "name": "stdout",
          "text": [
            "Primeiro numero inteiro: 1\n",
            "Segundo numero inteiro: 2\n",
            "Numero real: 3\n",
            "O produto do dobro do primeiro com metade do segundo: 3.0\n",
            "A soma do triplo do primeiro com o terceiro: 6.0\n",
            "O terceiro elevado ao cubo: 27.0\n"
          ]
        }
      ]
    },
    {
      "cell_type": "code",
      "source": [
        "# Ex 12\n",
        "# Tendo como dados de entrada a altura de uma pessoa, construa um algoritmo que calcule seu peso ideal, usando a seguinte fórmula: (72.7*altura) - 58\n",
        "\n",
        "altura = float(input(\"Altura: \"))\n",
        "\n",
        "imc = (72.7 * altura) - 58\n",
        "\n",
        "print(f\"Seu peso ideal e: {imc}\")"
      ],
      "metadata": {
        "colab": {
          "base_uri": "https://localhost:8080/"
        },
        "id": "QUIIJrhd1IOF",
        "outputId": "71c4dde1-0bca-4d6a-b045-dc1b5c59fd16"
      },
      "execution_count": null,
      "outputs": [
        {
          "output_type": "stream",
          "name": "stdout",
          "text": [
            "Altura: 1.85\n",
            "Seu peso ideal e: 76.495\n"
          ]
        }
      ]
    },
    {
      "cell_type": "code",
      "source": [
        "# Ex 13\n",
        "# Tendo como dado de entrada a altura (h) de uma pessoa, construa um algoritmo que calcule seu peso ideal, utilizando as seguintes fórmulas:\n",
        "# Para homens: (72.7*h) - 58\n",
        "# Para mulheres: (62.1*h) - 44.7\n",
        "\n",
        "h = float(input(\"Altura: \"))\n",
        "\n",
        "homens = (72.7 * h) - 58\n",
        "mulheres = (62.1 * h) - 44.7\n",
        "\n",
        "print(f\"O peso ideal para mulheres e: {mulheres}\")\n",
        "print(f\"O peso ideal para homense : {homens}\")"
      ],
      "metadata": {
        "colab": {
          "base_uri": "https://localhost:8080/"
        },
        "id": "NuhQwOYF1ngA",
        "outputId": "36128aae-6d13-4396-9c85-56a0b4e23acf"
      },
      "execution_count": null,
      "outputs": [
        {
          "output_type": "stream",
          "name": "stdout",
          "text": [
            "Altura: 1.85\n",
            "O peso ideal para mulheres e: 70.185\n",
            "O peso ideal para homense : 76.495\n"
          ]
        }
      ]
    },
    {
      "cell_type": "code",
      "source": [
        "# Ex 14\n",
        "# João Papo-de-Pescador, homem de bem, comprou um microcomputador para controlar o rendimento diário de seu trabalho.\n",
        "# Toda vez que ele traz um peso de peixes maior que o estabelecido pelo regulamento de pesca do estado de São Paulo (50 quilos) deve pagar uma multa de R$ 4,00 por quilo excedente.\n",
        "# João precisa que você faça um programa que leia a variável peso (peso de peixes) e calcule o excesso.\n",
        "# Gravar na variável excesso a quantidade de quilos além do limite e na variável multa o valor da multa que João deverá pagar.\n",
        "# Imprima os dados do programa com as mensagens adequadas.\n",
        "\n",
        "peso = float(input(\"Peso do pescado: \"))\n",
        "\n",
        "excesso = peso - 50.00\n",
        "multa = excesso * 4.00\n",
        "\n",
        "print(f\"O valor da multa a ser pago e: R${multa}\")"
      ],
      "metadata": {
        "colab": {
          "base_uri": "https://localhost:8080/"
        },
        "id": "n-BbXjAL2MRY",
        "outputId": "8a9ab190-b617-47bd-f506-37765d4bc9f9"
      },
      "execution_count": null,
      "outputs": [
        {
          "output_type": "stream",
          "name": "stdout",
          "text": [
            "Peso do pescado: 100\n",
            "O valor da multa a ser pago e: R$200.0\n"
          ]
        }
      ]
    },
    {
      "cell_type": "code",
      "source": [
        "# Ex 15\n",
        "# Faça um Programa que pergunte quanto você ganha por hora e o número de horas trabalhadas no mês.\n",
        "# Calcule e mostre o total do seu salário no referido mês, sabendo-se que são descontados 11% para o Imposto de Renda, 8% para o INSS e 5% para o sindicato.\n",
        "# faça um programa que nos dê:\n",
        "# salário bruto.\n",
        "# quanto pagou ao INSS.\n",
        "# quanto pagou ao sindicato.\n",
        "# o salário líquido.\n",
        "# calcule os descontos e o salário líquido, conforme a tabela abaixo:\n",
        "# + Salário Bruto : R$\n",
        "# - IR (11%) : R$\n",
        "# - INSS (8%) : R$\n",
        "# - Sindicato ( 5%) : R$\n",
        "# = Salário Liquido : R$\n",
        "# Obs.: Salário Bruto - Descontos = Salário Líquido.\n",
        "\n",
        "salario = float(input(\"Valor recebido por hora: \"))\n",
        "horas = float(input(\"Horas trabalhadas: \"))\n",
        "\n",
        "bruto = salario * horas\n",
        "inss = bruto * 0.08\n",
        "sindicato = bruto * 0.05\n",
        "ir = bruto * 0.11\n",
        "\n",
        "liquido = bruto - (inss + sindicato + ir)\n",
        "\n",
        "print(f\"IR (11%): R${ir:.2f}\")\n",
        "print(f\"INSS (8%): R${inss:.2f}\")\n",
        "print(f\"Sindicato (5%): R${sindicato:.2f}\")\n",
        "print(f\"Liquido: R${liquido}\")"
      ],
      "metadata": {
        "colab": {
          "base_uri": "https://localhost:8080/"
        },
        "id": "0YjEmjeS2_Ix",
        "outputId": "c132fb40-296c-4c8e-8756-1533e666a248"
      },
      "execution_count": null,
      "outputs": [
        {
          "output_type": "stream",
          "name": "stdout",
          "text": [
            "Valor recebido por hora: 100\n",
            "Horas trabalhadas: 10\n",
            "IR (11%): R$110.00\n",
            "INSS (8%): R$80.00\n",
            "Sindicato (5%): R$50.00\n",
            "Liquido: R$760.0\n"
          ]
        }
      ]
    },
    {
      "cell_type": "code",
      "source": [
        "# Ex 16\n",
        "# Faça um programa para uma loja de tintas. O programa deverá pedir o tamanho em metros quadrados da área a ser pintada.\n",
        "# Considere que a cobertura da tinta é de 1 litro para cada 3 metros quadrados e que a tinta é vendida em latas de 18 litros, que custam R$ 80,00.\n",
        "# Informe ao usuário a quantidades de latas de tinta a serem compradas e o preço total.\n",
        "\n",
        "lata = 18\n",
        "pintar = 3\n",
        "preco = 80\n",
        "\n",
        "mq = float(input(\"Area em metro quadrado: \"))\n",
        "\n",
        "litros = mq / pintar\n",
        "\n",
        "qntLatas = litros / lata\n",
        "print(latas)\n",
        "\n",
        "precoLatas = qntLatas * preco\n",
        "\n",
        "print(f\"Serao necessarias {qntLatas} com o valor total de R${precoLatas}\")"
      ],
      "metadata": {
        "colab": {
          "base_uri": "https://localhost:8080/"
        },
        "id": "ha7Cyfgr4o-o",
        "outputId": "15d5fa1d-05a5-40b6-cfb1-46f17d905e82"
      },
      "execution_count": null,
      "outputs": [
        {
          "output_type": "stream",
          "name": "stdout",
          "text": [
            "Area em metro quadrado: 108\n",
            "1.0\n",
            "Serao necessarias 2.0 com o valor total de R$160.0\n"
          ]
        }
      ]
    },
    {
      "cell_type": "code",
      "source": [
        "# Ex 17\n",
        "# Faça um Programa para uma loja de tintas. O programa deverá pedir o tamanho em metros quadrados da área a ser pintada.\n",
        "# Considere que a cobertura da tinta é de 1 litro para cada 6 metros quadrados e que a tinta é vendida em latas de 18 litros,\n",
        "# que custam R$ 80,00 ou em galões de 3,6 litros, que custam R$ 25,00.\n",
        "# Informe ao usuário as quantidades de tinta a serem compradas e os respectivos preços em 3 situações:\n",
        "# comprar apenas latas de 18 litros;\n",
        "# comprar apenas galões de 3,6 litros;\n",
        "# misturar latas e galões, de forma que o desperdício de tinta seja menor.\n",
        "# Acrescente 10% de folga e sempre arredonde os valores para cima, isto é, considere latas cheias.\n",
        "\n",
        "cobertura = 6\n",
        "lata1 = 18\n",
        "lata2 = 3.6\n",
        "preco1 = 80\n",
        "preco2 = 25\n",
        "folga = 1.1\n",
        "\n",
        "mq = float(input(\"Metros quadrados: \"))\n",
        "\n",
        "apenas18 = (((mq/cobertura) / lata1) * folga) * preco1\n",
        "apenas3 = (((mq/cobertura) / lata2) * folga) * preco2\n",
        "\n",
        "menorD ="
      ],
      "metadata": {
        "id": "QEj4xFPk6CzA"
      },
      "execution_count": null,
      "outputs": []
    },
    {
      "cell_type": "code",
      "source": [
        "# Ex 18\n",
        "# Faça um programa que peça o tamanho de um arquivo para download (em MB) e a velocidade de um link de Internet (em Mbps),\n",
        "# calcule e informe o tempo aproximado de download do arquivo usando este link (em minutos).\n",
        "\n",
        "mb = float(input(\"Tamanho do arquivo em MB: \"))\n",
        "internet = float(input(\"Velociade de download em Mbps: \"))\n",
        "\n",
        "tempo = (mb / internet) / 60\n",
        "\n",
        "print(f\"O download levara {tempo:.2f} minutos\")"
      ],
      "metadata": {
        "colab": {
          "base_uri": "https://localhost:8080/"
        },
        "id": "TqhauPS9-IQM",
        "outputId": "d7e2dbde-ad8a-4e31-a1df-bacb2b0adf8b"
      },
      "execution_count": null,
      "outputs": [
        {
          "output_type": "stream",
          "name": "stdout",
          "text": [
            "Tamanho do arquivo em MB: 60\n",
            "Velociade de download em Mbps: 1\n",
            "O download levara 1.00 minutos\n"
          ]
        }
      ]
    }
  ]
}
