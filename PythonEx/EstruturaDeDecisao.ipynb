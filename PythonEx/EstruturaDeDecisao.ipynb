{
  "nbformat": 4,
  "nbformat_minor": 0,
  "metadata": {
    "colab": {
      "provenance": [],
      "toc_visible": true,
      "authorship_tag": "ABX9TyO7sCn8HwT9llvQxwZ0L73U",
      "include_colab_link": true
    },
    "kernelspec": {
      "name": "python3",
      "display_name": "Python 3"
    },
    "language_info": {
      "name": "python"
    }
  },
  "cells": [
    {
      "cell_type": "markdown",
      "metadata": {
        "id": "view-in-github",
        "colab_type": "text"
      },
      "source": [
        "<a href=\"https://colab.research.google.com/github/GermanoBiondi/PythonEx/blob/main/EstruturaDeDecisao.ipynb\" target=\"_parent\"><img src=\"https://colab.research.google.com/assets/colab-badge.svg\" alt=\"Open In Colab\"/></a>"
      ]
    },
    {
      "cell_type": "code",
      "source": [],
      "metadata": {
        "id": "-EzGYlNpTkg8"
      },
      "execution_count": null,
      "outputs": []
    },
    {
      "cell_type": "code",
      "execution_count": null,
      "metadata": {
        "colab": {
          "base_uri": "https://localhost:8080/"
        },
        "id": "vbK7DLVdv4rm",
        "outputId": "3f877dee-888b-47c9-ceff-a7632dcc578e"
      },
      "outputs": [
        {
          "output_type": "stream",
          "name": "stdout",
          "text": [
            "Insira o primeiro numero: 2\n",
            "Insira o segundo numero: 4\n",
            "O maior numero e: 4\n"
          ]
        }
      ],
      "source": [
        "# Ex1\n",
        "# Faça um Programa que peça dois números e imprima o maior deles.\n",
        "\n",
        "a = int(input(\"Insira o primeiro numero: \"))\n",
        "b = int(input(\"Insira o segundo numero: \"))\n",
        "\n",
        "if a > b:\n",
        "  print(f\"O maior numero e: {a}\")\n",
        "else:\n",
        "  print(f\"O maior numero e: {b}\")"
      ]
    },
    {
      "cell_type": "code",
      "source": [
        "# Ex 2\n",
        "# Faça um Programa que peça um valor e mostre na tela se o valor é positivo ou negativo.\n",
        "\n",
        "a = int(input(\"Insira um numero: \"))\n",
        "\n",
        "if a > 0:\n",
        "  print(\"O numero e positivo\")\n",
        "else:\n",
        "  print(\"O numero e negativo\")"
      ],
      "metadata": {
        "colab": {
          "base_uri": "https://localhost:8080/"
        },
        "id": "vXQgV_a208Ih",
        "outputId": "6919a293-d580-4dc2-eb2a-54ee155dfc06"
      },
      "execution_count": null,
      "outputs": [
        {
          "output_type": "stream",
          "name": "stdout",
          "text": [
            "Insira um numero: -1\n",
            "O numero e negativo\n"
          ]
        }
      ]
    },
    {
      "cell_type": "code",
      "source": [
        "# Ex 3\n",
        "# Faça um Programa que verifique se uma letra digitada é \"F\" ou \"M\". Conforme a letra escrever: F - Feminino, M - Masculino, Sexo Inválido.\n",
        "\n",
        "a = str(input(\"Insira seu sexo: \"))\n",
        "\n",
        "if a == \"F\" or a == \"f\":\n",
        "  print(\"Feminino\")\n",
        "elif a == \"M\" or a == \"m\":\n",
        "  print(\"Masculino\")\n",
        "else:\n",
        "  print(\"Sexo invalido\")\n"
      ],
      "metadata": {
        "colab": {
          "base_uri": "https://localhost:8080/"
        },
        "id": "PORR2co_1rvf",
        "outputId": "4dc736a4-2e1a-4959-8395-31bb2af358ba"
      },
      "execution_count": null,
      "outputs": [
        {
          "output_type": "stream",
          "name": "stdout",
          "text": [
            "Insira seu sexo: d\n",
            "Sexo invalido\n"
          ]
        }
      ]
    },
    {
      "cell_type": "code",
      "source": [
        "# Ex 4\n",
        "# Faça um Programa que verifique se uma letra digitada é vogal ou consoante.\n",
        "\n",
        "a = str(input(\"Digite uma letra: \"))\n",
        "\n",
        "if a in \"aeiou\" or a in \"AEIOU\":\n",
        "  print(f\"Vogal: {a}\")\n",
        "else:\n",
        "  print(f\"Consoante: {a}\")"
      ],
      "metadata": {
        "colab": {
          "base_uri": "https://localhost:8080/"
        },
        "id": "o6IgXo_78r-j",
        "outputId": "b8dcda97-caa4-4e7f-a7e3-8ab1cd9f33c4"
      },
      "execution_count": null,
      "outputs": [
        {
          "output_type": "stream",
          "name": "stdout",
          "text": [
            "Digite uma letra: A\n",
            "Vogal: A\n"
          ]
        }
      ]
    },
    {
      "cell_type": "code",
      "source": [
        "# Ex 5\n",
        "# Faça um programa para a leitura de duas notas parciais de um aluno. O programa deve calcular a média alcançada por aluno e apresentar:\n",
        "# A mensagem \"Aprovado\", se a média alcançada for maior ou igual a sete;\n",
        "# A mensagem \"Reprovado\", se a média for menor do que sete;\n",
        "# A mensagem \"Aprovado com Distinção\", se a média for igual a dez.\n",
        "\n",
        "nota1 = float(input(\"Forneca a primeira nota: \"))\n",
        "nota2 = float(input(\"Forneca a segunda nota: \"))\n",
        "\n",
        "notaFinal = (nota1 + nota2) / 2\n",
        "\n",
        "\n",
        "if notaFinal == 10:\n",
        "  print(\"Aprovado com distincao\")\n",
        "elif notaFinal >= 7:\n",
        "  print(\"Aprovado\")\n",
        "else:\n",
        "  print(\"Reprovado\")"
      ],
      "metadata": {
        "colab": {
          "base_uri": "https://localhost:8080/"
        },
        "id": "V2Foi2IMJoBw",
        "outputId": "213767c6-2127-4fcf-a465-cf85df143b9b"
      },
      "execution_count": null,
      "outputs": [
        {
          "output_type": "stream",
          "name": "stdout",
          "text": [
            "Forneca a primeira nota: 10\n",
            "Forneca a segunda nota: 10\n",
            "Aprovado com distincao\n"
          ]
        }
      ]
    },
    {
      "cell_type": "code",
      "source": [
        "# Ex 6\n",
        "# Faça um Programa que leia três números e mostre o maior deles.\n",
        "\n",
        "n1 = int(input(\"Forneca o primeiro numero: \"))\n",
        "n2 = int(input(\"Forneca o segundo numero: \"))\n",
        "n3 = int(input(\"Forneca o terceiro numero: \"))\n",
        "\n",
        "if n1 > n2 and n1 > n2:\n",
        "  print(f\"O maior numero e: {n1}\")\n",
        "elif n2 > n1 and n2 > n3:\n",
        "  print(f\"O maior numero e: {n2}\")\n",
        "else:\n",
        "  print(f\"O maior numero e: {n3}\")\n"
      ],
      "metadata": {
        "colab": {
          "base_uri": "https://localhost:8080/"
        },
        "id": "Lo0EbJ9VLtlq",
        "outputId": "2e328761-c369-457b-d5eb-c048c5c9421a"
      },
      "execution_count": null,
      "outputs": [
        {
          "output_type": "stream",
          "name": "stdout",
          "text": [
            "Fornceca o primeiro numero: 1\n",
            "Fornceca o segundo numero: 2\n",
            "Fornceca o terceiro numero: 3\n",
            "O maior numero e: 3\n"
          ]
        }
      ]
    },
    {
      "cell_type": "code",
      "source": [
        "# Ex 7\n",
        "# Faça um Programa que leia três números e mostre o maior e o menor deles.\n",
        "\n",
        "n1 = int(input(\"Fornceca o primeiro numero: \"))\n",
        "n2 = int(input(\"Fornceca o segundo numero: \"))\n",
        "n3 = int(input(\"Fornceca o terceiro numero: \"))\n",
        "\n",
        "if n1 > n2 and n1 > n2:\n",
        "  maior = n1\n",
        "elif n2 > n1 and n2 > n3:\n",
        "  maior = n2\n",
        "else:\n",
        "  maior = n3\n",
        "\n",
        "if n1 < n2 and n1 < n2:\n",
        "  menor = n1\n",
        "elif n2 < n1 and n2 < n3:\n",
        "  menor = n2\n",
        "else:\n",
        "  menor = n3\n",
        "\n",
        "print(f\"O maior numero: {maior}\\nO menor numero: {menor}\")"
      ],
      "metadata": {
        "colab": {
          "base_uri": "https://localhost:8080/"
        },
        "id": "y4HFFHGlJ72k",
        "outputId": "dec6ccd0-b27e-42c8-de5b-a958b7718b66"
      },
      "execution_count": null,
      "outputs": [
        {
          "output_type": "stream",
          "name": "stdout",
          "text": [
            "Fornceca o primeiro numero: 1\n",
            "Fornceca o segundo numero: 2\n",
            "Fornceca o terceiro numero: 3\n",
            "O maior numero: 3\n",
            "O menor numero: 1\n"
          ]
        }
      ]
    },
    {
      "cell_type": "code",
      "source": [
        "# Ex 8\n",
        "# Faça um programa que pergunte o preço de três produtos e informe qual produto você deve comprar,\n",
        "# sabendo que a decisão é sempre pelo mais barato.\n",
        "\n",
        "preco1 = float(input(\"Preco do primeiro produto: \"))\n",
        "preco2 = float(input(\"Preco do segundo produto: \"))\n",
        "preco3 = float(input(\"Preco do terceiro produto: \"))\n",
        "\n",
        "if preco1 < preco2 and preco1 < preco3:\n",
        "  print(\"O primeiro e o mais barato\")\n",
        "elif preco2 < preco1 and preco2 < preco3:\n",
        "  print(\"O segundo e mais barato\")\n",
        "else:\n",
        "  print(\"O terceiro e mais barato\")"
      ],
      "metadata": {
        "colab": {
          "base_uri": "https://localhost:8080/"
        },
        "id": "kLSdVw54K77k",
        "outputId": "283319da-6350-42f7-a7d9-13136c9c6b90"
      },
      "execution_count": null,
      "outputs": [
        {
          "output_type": "stream",
          "name": "stdout",
          "text": [
            "Preco do primeiro produto: 2\n",
            "Preco do segundo produto: 1\n",
            "Preco do terceiro produto: 3\n",
            "O segundo e mais barato\n"
          ]
        }
      ]
    },
    {
      "cell_type": "code",
      "source": [
        "# Ex 9\n",
        "# Faça um Programa que leia três números e mostre-os em ordem decrescente.\n",
        "\n",
        "num1 = int(input(\"Primeiro numero: \"))\n",
        "num2 = int(input(\"Segundo numero: \"))\n",
        "num3 = int(input(\"Terceiro numero: \"))\n",
        "\n",
        "if num1 >= num2 and num1 >= num3:\n",
        "    if num2 >= num3:\n",
        "        print(\"Números em ordem decrescente:\", num1, num2, num3)\n",
        "    else:\n",
        "        print(\"Números em ordem decrescente:\", num1, num3, num2)\n",
        "elif num2 >= num1 and num2 >= num3:\n",
        "    if num1 >= num3:\n",
        "        print(\"Números em ordem decrescente:\", num2, num1, num3)\n",
        "    else:\n",
        "        print(\"Números em ordem decrescente:\", num2, num3, num1)\n",
        "else:\n",
        "    if num1 >= num2:\n",
        "        print(\"Números em ordem decrescente:\", num3, num1, num2)\n",
        "    else:\n",
        "        print(\"Números em ordem decrescente:\", num3, num2, num1)"
      ],
      "metadata": {
        "colab": {
          "base_uri": "https://localhost:8080/"
        },
        "id": "AjeiHad7L0QT",
        "outputId": "ccf73356-6a8c-4f8c-d731-28f671784a5e"
      },
      "execution_count": null,
      "outputs": [
        {
          "output_type": "stream",
          "name": "stdout",
          "text": [
            "Primeiro numero: 1\n",
            "Segundo numero: 2\n",
            "Terceiro numero3\n",
            "Números em ordem decrescente: 3 2 1\n"
          ]
        }
      ]
    },
    {
      "cell_type": "code",
      "source": [
        "# Ex 10\n",
        "# Faça um Programa que pergunte em que turno você estuda.\n",
        "# Peça para digitar M-matutino ou V-Vespertino ou N- Noturno.\n",
        "# Imprima a mensagem \"Bom Dia!\", \"Boa Tarde!\" ou \"Boa Noite!\" ou \"Valor Inválido!\", conforme o caso.\n",
        "\n",
        "turno = str(input(\"Qual turno voce estuda: \"))\n",
        "\n",
        "if turno == \"M\" or turno == \"m\":\n",
        "  print(\"Bom dia!\")\n",
        "elif turno == \"V\" or turno == \"v\":\n",
        "  print('Boa tarde!')\n",
        "elif turno == \"N\" or turno == \"n\":\n",
        "  print(\"Boa noite!\")\n",
        "else:\n",
        "  print(\"Valor invalido\")"
      ],
      "metadata": {
        "colab": {
          "base_uri": "https://localhost:8080/"
        },
        "id": "RzQuhCHbNNik",
        "outputId": "4aedc0b6-0a68-414d-c727-2923bddd22c3"
      },
      "execution_count": null,
      "outputs": [
        {
          "output_type": "stream",
          "name": "stdout",
          "text": [
            "Qual tunro voce estuda: f\n",
            "Valor invalido\n"
          ]
        }
      ]
    },
    {
      "cell_type": "code",
      "source": [
        "# Ex 10\n",
        "# As Organizações Tabajara resolveram dar um aumento de salário aos seus colaboradores\n",
        "# e lhe contraram para desenvolver o programa que calculará os reajustes.\n",
        "# Faça um programa que recebe o salário de um colaborador e o reajuste segundo o seguinte critério, baseado no salário atual:\n",
        "# salários até R$ 280,00 (incluindo) : aumento de 20%\n",
        "# salários entre R$ 280,00 e R$ 700,00 : aumento de 15%\n",
        "# salários entre R$ 700,00 e R$ 1500,00 : aumento de 10%\n",
        "# salários de R$ 1500,00 em diante : aumento de 5% Após o aumento ser realizado, informe na tela:\n",
        "# o salário antes do reajuste;\n",
        "# o percentual de aumento aplicado;\n",
        "# o valor do aumento;\n",
        "# o novo salário, após o aumento.\n",
        "\n"
      ],
      "metadata": {
        "id": "RgZVLcb0OZrS"
      },
      "execution_count": null,
      "outputs": []
    }
  ]
}
