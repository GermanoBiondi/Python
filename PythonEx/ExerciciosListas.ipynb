{
  "nbformat": 4,
  "nbformat_minor": 0,
  "metadata": {
    "colab": {
      "provenance": [],
      "authorship_tag": "ABX9TyPvQSwMuP7P7WY4I4GmIpR7",
      "include_colab_link": true
    },
    "kernelspec": {
      "name": "python3",
      "display_name": "Python 3"
    },
    "language_info": {
      "name": "python"
    }
  },
  "cells": [
    {
      "cell_type": "markdown",
      "metadata": {
        "id": "view-in-github",
        "colab_type": "text"
      },
      "source": [
        "<a href=\"https://colab.research.google.com/github/GermanoBiondi/PythonEx/blob/main/ExerciciosListas.ipynb\" target=\"_parent\"><img src=\"https://colab.research.google.com/assets/colab-badge.svg\" alt=\"Open In Colab\"/></a>"
      ]
    },
    {
      "cell_type": "code",
      "execution_count": 7,
      "metadata": {
        "colab": {
          "base_uri": "https://localhost:8080/"
        },
        "id": "iQbDyy82AZeV",
        "outputId": "6e5685be-c59a-4b48-df6e-373d9a6904af"
      },
      "outputs": [
        {
          "output_type": "stream",
          "name": "stdout",
          "text": [
            "Digite o 1º número inteiro: 1\n",
            "Digite o 2º número inteiro: 2\n",
            "Digite o 3º número inteiro: 3\n",
            "Digite o 4º número inteiro: 4\n",
            "Digite o 5º número inteiro: 5\n",
            "Números digitados:\n",
            "1\n",
            "2\n",
            "3\n",
            "4\n",
            "5\n"
          ]
        }
      ],
      "source": [
        "# Ex 1\n",
        "# Faça um Programa que leia um vetor de 5 números inteiros e mostre-os.\n",
        "\n",
        "numeros = []\n",
        "\n",
        "for i in range(1, 6):\n",
        "    numero = int(input(f'Digite o {i}º número inteiro: '))\n",
        "    numeros.append(numero)\n",
        "\n",
        "print('Números digitados:')\n",
        "for numero in numeros:\n",
        "    print(numero)"
      ]
    },
    {
      "cell_type": "code",
      "source": [
        "# Ex 2\n",
        "# Faça um Programa que leia um vetor de 10 números reais e mostre-os na ordem inversa.\n",
        "\n",
        "numeros = []\n",
        "\n",
        "for i in range(1, 11):\n",
        "  numero = float(input(f\"Digite o {i}º número real: \"))\n",
        "  numeros.append(numero)\n",
        "\n",
        "print(f'Numeros digitados: {numeros}')"
      ],
      "metadata": {
        "colab": {
          "base_uri": "https://localhost:8080/"
        },
        "id": "7iI50X-gBgRZ",
        "outputId": "fc3e361a-93ae-4a82-a673-cfc4ba0a15e7"
      },
      "execution_count": 11,
      "outputs": [
        {
          "output_type": "stream",
          "name": "stdout",
          "text": [
            "Digite o 1º número real: 1\n",
            "Digite o 2º número real: 2\n",
            "Digite o 3º número real: 3\n",
            "Digite o 4º número real: 4\n",
            "Digite o 5º número real: 5\n",
            "Digite o 6º número real: 6\n",
            "Digite o 7º número real: 7\n",
            "Digite o 8º número real: 8\n",
            "Digite o 9º número real: 9\n",
            "Digite o 10º número real: 10\n",
            "Numeros digitados: [1.0, 2.0, 3.0, 4.0, 5.0, 6.0, 7.0, 8.0, 9.0, 10.0]\n"
          ]
        }
      ]
    },
    {
      "cell_type": "code",
      "source": [
        "# Ex 3\n",
        "# Faça um Programa que leia 4 notas, mostre as notas e a média na tela.\n",
        "\n",
        "notas = []\n",
        "\n",
        "for i in range(1, 5):\n",
        "  notasInseridas = float(input(f\"Digite a {i} nota: \"))\n",
        "  notas.append(notasInseridas)\n",
        "\n",
        "soma_notas = sum(notas)\n",
        "media = soma_notas / 4\n",
        "\n",
        "print(\"Notas inseridas:\")\n",
        "for i, nota in enumerate(notas, start=1):\n",
        "    print(f\"Nota {i}: {nota}\")\n",
        "\n",
        "print(f\"Média das notas: {media:.2f}\")"
      ],
      "metadata": {
        "colab": {
          "base_uri": "https://localhost:8080/"
        },
        "id": "2AIkeSRiDYNl",
        "outputId": "12f1fe0f-c61f-4648-d429-4cb371c540d0"
      },
      "execution_count": 10,
      "outputs": [
        {
          "output_type": "stream",
          "name": "stdout",
          "text": [
            "Digite a 1 nota: 10\n",
            "Digite a 2 nota: 25\n",
            "Digite a 3 nota: 3.5\n",
            "Digite a 4 nota: 6.0\n",
            "Notas inseridas:\n",
            "Nota 1: 10.0\n",
            "Nota 2: 25.0\n",
            "Nota 3: 3.5\n",
            "Nota 4: 6.0\n",
            "Média das notas: 11.12\n"
          ]
        }
      ]
    },
    {
      "cell_type": "code",
      "source": [
        "# Ex 4\n",
        "# Faça um Programa que leia um vetor de 10 caracteres, e diga quantas consoantes foram lidas. Imprima as consoantes.\n",
        "\n",
        "lista_consoantes = []\n",
        "quantidade_consoantes = 0\n",
        "\n",
        "for i in range(1, 11):\n",
        "    caractere = input(f\"Insira o {i}º caractere: \").lower()  # Converta para minúsculas para tratar maiúsculas e minúsculas\n",
        "    lista_consoantes.append(caractere)\n",
        "\n",
        "    if caractere.isalpha() and caractere not in \"aeiou\":\n",
        "        quantidade_consoantes += 1\n",
        "\n",
        "print(\"Caracteres inseridos:\")\n",
        "for caractere in lista_consoantes:\n",
        "    print(caractere, end=' ')\n",
        "\n",
        "print(f\"\\nQuantidade de consoantes: {quantidade_consoantes}\")"
      ],
      "metadata": {
        "colab": {
          "base_uri": "https://localhost:8080/"
        },
        "id": "AF4MllZaEs5p",
        "outputId": "4a8a2339-5a66-4929-c51f-44153d3c5419"
      },
      "execution_count": 15,
      "outputs": [
        {
          "output_type": "stream",
          "name": "stdout",
          "text": [
            "Insira o 1º caractere: a\n",
            "Insira o 2º caractere: b\n",
            "Insira o 3º caractere: c\n",
            "Insira o 4º caractere: d\n",
            "Insira o 5º caractere: u\n",
            "Insira o 6º caractere: o\n",
            "Insira o 7º caractere: h\n",
            "Insira o 8º caractere: f\n",
            "Insira o 9º caractere: e\n",
            "Insira o 10º caractere: r\n",
            "Caracteres inseridos:\n",
            "a b c d u o h f e r \n",
            "Quantidade de consoantes: 6\n"
          ]
        }
      ]
    },
    {
      "cell_type": "code",
      "source": [
        "# Ex 5\n",
        "# Faça um Programa que leia 20 números inteiros e armazene-os num vetor.\n",
        "# Armazene os números pares no vetor PAR e os números IMPARES no vetor impar.\n",
        "# Imprima os três vetores.\n",
        "\n",
        "numeros = []\n",
        "pares = []\n",
        "impares = []\n",
        "\n",
        "for i in range(1, 21):\n",
        "    numero = int(input(f\"Digite o {i}º número inteiro: \"))\n",
        "    numeros.append(numero)\n",
        "\n",
        "    if numero % 2 == 0:\n",
        "        pares.append(numero)\n",
        "    else:\n",
        "        impares.append(numero)\n",
        "\n",
        "print(\"Números inseridos:\")\n",
        "print(numeros)\n",
        "\n",
        "print(\"Números pares:\")\n",
        "print(pares)\n",
        "\n",
        "print(\"Números ímpares:\")\n",
        "print(impares)\n"
      ],
      "metadata": {
        "colab": {
          "base_uri": "https://localhost:8080/"
        },
        "id": "Y-_fct0JHUqn",
        "outputId": "e14d2b96-e6a2-4b17-c31d-791ef3a6d5d6"
      },
      "execution_count": 16,
      "outputs": [
        {
          "output_type": "stream",
          "name": "stdout",
          "text": [
            "Digite o 1º número inteiro: 2\n",
            "Digite o 2º número inteiro: 5\n",
            "Digite o 3º número inteiro: 45\n",
            "Digite o 4º número inteiro: 6\n",
            "Digite o 5º número inteiro: 2\n",
            "Digite o 6º número inteiro: 1\n",
            "Digite o 7º número inteiro: 3\n",
            "Digite o 8º número inteiro: 35\n",
            "Digite o 9º número inteiro: 36\n",
            "Digite o 10º número inteiro: 4\n",
            "Digite o 11º número inteiro: 58\n",
            "Digite o 12º número inteiro: 94\n",
            "Digite o 13º número inteiro: 25\n",
            "Digite o 14º número inteiro: 3\n",
            "Digite o 15º número inteiro: 20\n",
            "Digite o 16º número inteiro: 11\n",
            "Digite o 17º número inteiro: 20\n",
            "Digite o 18º número inteiro: 25\n",
            "Digite o 19º número inteiro: 26\n",
            "Digite o 20º número inteiro: 14\n",
            "Números inseridos:\n",
            "[2, 5, 45, 6, 2, 1, 3, 35, 36, 4, 58, 94, 25, 3, 20, 11, 20, 25, 26, 14]\n",
            "Números pares:\n",
            "[2, 6, 2, 36, 4, 58, 94, 20, 20, 26, 14]\n",
            "Números ímpares:\n",
            "[5, 45, 1, 3, 35, 25, 3, 11, 25]\n"
          ]
        }
      ]
    },
    {
      "cell_type": "code",
      "source": [
        "# Ex 6\n",
        "# Faça um Programa que peça as quatro notas de 10 alunos,\n",
        "# calcule e armazene num vetor a média de cada aluno,\n",
        "# imprima o número de alunos com média maior ou igual a 7.0.\n",
        "\n",
        "medias_alunos = []\n",
        "alunos_aprovados = 0\n",
        "\n",
        "for aluno in range(10):\n",
        "    notas = []\n",
        "    for i in range(1, 5):\n",
        "        nota = float(input(f\"Digite a {i}ª nota do aluno {aluno + 1}: \"))\n",
        "        notas.append(nota)\n",
        "\n",
        "    media = sum(notas) / len(notas)\n",
        "    medias_alunos.append(media)\n",
        "\n",
        "    if media >= 7.0:\n",
        "        alunos_aprovados += 1\n",
        "\n",
        "print(\"Médias dos alunos:\")\n",
        "for i, media in enumerate(medias_alunos, start=1):\n",
        "    print(f\"Aluno {i}: {media:.2f}\")\n",
        "\n",
        "print(f\"Número de alunos com média maior ou igual a 7.0: {alunos_aprovados}\")\n"
      ],
      "metadata": {
        "colab": {
          "base_uri": "https://localhost:8080/"
        },
        "id": "s_audmv-Htwc",
        "outputId": "507a22c0-4d0d-49b1-e2c5-4129f9a19723"
      },
      "execution_count": 17,
      "outputs": [
        {
          "output_type": "stream",
          "name": "stdout",
          "text": [
            "Digite a 1ª nota do aluno 1: 10\n",
            "Digite a 2ª nota do aluno 1: 5\n",
            "Digite a 3ª nota do aluno 1: 6\n",
            "Digite a 4ª nota do aluno 1: 7\n",
            "Digite a 1ª nota do aluno 2: 5\n",
            "Digite a 2ª nota do aluno 2: 6\n",
            "Digite a 3ª nota do aluno 2: 8\n",
            "Digite a 4ª nota do aluno 2: 5\n",
            "Digite a 1ª nota do aluno 3: 6\n",
            "Digite a 2ª nota do aluno 3: 5\n",
            "Digite a 3ª nota do aluno 3: 7\n",
            "Digite a 4ª nota do aluno 3: 6\n",
            "Digite a 1ª nota do aluno 4: 5\n",
            "Digite a 2ª nota do aluno 4: 10\n",
            "Digite a 3ª nota do aluno 4: 9\n",
            "Digite a 4ª nota do aluno 4: 8\n",
            "Digite a 1ª nota do aluno 5: 6\n",
            "Digite a 2ª nota do aluno 5: 5\n",
            "Digite a 3ª nota do aluno 5: 5\n",
            "Digite a 4ª nota do aluno 5: 8\n",
            "Digite a 1ª nota do aluno 6: 4\n",
            "Digite a 2ª nota do aluno 6: 8\n",
            "Digite a 3ª nota do aluno 6: 10\n",
            "Digite a 4ª nota do aluno 6: 9\n",
            "Digite a 1ª nota do aluno 7: 7\n",
            "Digite a 2ª nota do aluno 7: 8\n",
            "Digite a 3ª nota do aluno 7: 6\n",
            "Digite a 4ª nota do aluno 7: 5\n",
            "Digite a 1ª nota do aluno 8: 4\n",
            "Digite a 2ª nota do aluno 8: 8\n",
            "Digite a 3ª nota do aluno 8: 10\n",
            "Digite a 4ª nota do aluno 8: 9\n",
            "Digite a 1ª nota do aluno 9: 8\n",
            "Digite a 2ª nota do aluno 9: 7\n",
            "Digite a 3ª nota do aluno 9: 6\n",
            "Digite a 4ª nota do aluno 9: 5\n",
            "Digite a 1ª nota do aluno 10: 10\n",
            "Digite a 2ª nota do aluno 10: 1\n",
            "Digite a 3ª nota do aluno 10: 5\n",
            "Digite a 4ª nota do aluno 10: 6\n",
            "Médias dos alunos:\n",
            "Aluno 1: 7.00\n",
            "Aluno 2: 6.00\n",
            "Aluno 3: 6.00\n",
            "Aluno 4: 8.00\n",
            "Aluno 5: 6.00\n",
            "Aluno 6: 7.75\n",
            "Aluno 7: 6.50\n",
            "Aluno 8: 7.75\n",
            "Aluno 9: 6.50\n",
            "Aluno 10: 5.50\n",
            "Número de alunos com média maior ou igual a 7.0: 4\n"
          ]
        }
      ]
    },
    {
      "cell_type": "code",
      "source": [
        "# Ex 7\n",
        "# Faça um Programa que leia um vetor de 5 números inteiros,\n",
        "# mostre a soma,\n",
        "# a multiplicação e os números.\n",
        "\n",
        "numeros = []\n",
        "\n",
        "for i in range(1, 6):\n",
        "  numero = int(input(f\"Insira o {i} numero: \"))\n",
        "  numeros.append(numero)\n",
        "\n",
        "soma = sum(numeros)\n",
        "mult = 1\n",
        "\n",
        "print(\"Numeros inseridos: \")\n",
        "for numero in numeros:\n",
        "  print(numero, end=' ')\n",
        "\n",
        "print(f\"\\nSoma dos numeros: {soma}\")\n",
        "for numero in numeros:\n",
        "  mult *= numero\n",
        "\n",
        "print(f\"Multiplicacao dos numeros: {mult}\")"
      ],
      "metadata": {
        "colab": {
          "base_uri": "https://localhost:8080/"
        },
        "id": "naHWhBOuH_1k",
        "outputId": "96bed05a-260d-455e-e20a-9cc20dd371a3"
      },
      "execution_count": 19,
      "outputs": [
        {
          "output_type": "stream",
          "name": "stdout",
          "text": [
            "Insira o 1 numero: 2\n",
            "Insira o 2 numero: 3\n",
            "Insira o 3 numero: 4\n",
            "Insira o 4 numero: 5\n",
            "Insira o 5 numero: 6\n",
            "Numeros inseridos: \n",
            "2 3 4 5 6 \n",
            "Soma dos numeros: 20\n",
            "Multiplicacao dos numeros: 720\n"
          ]
        }
      ]
    },
    {
      "cell_type": "code",
      "source": [
        "# Ex 8\n",
        "# Faça um Programa que peça a idade e a altura de 5 pessoas,\n",
        "# armazene cada informação no seu respectivo vetor.\n",
        "# Imprima a idade e a altura na ordem inversa a ordem lida.\n",
        "\n",
        "idades = []\n",
        "alturas = []\n",
        "\n",
        "for i in range(1, 6):\n",
        "    idade = int(input(f\"Digite a idade da pessoa {i}: \"))\n",
        "    altura = float(input(f\"Digite a altura da pessoa {i} (em metros): \"))\n",
        "\n",
        "    idades.append(idade)\n",
        "    alturas.append(altura)\n",
        "\n",
        "print(\"Idades na ordem inversa:\")\n",
        "for idade in reversed(idades):\n",
        "    print(idade)\n",
        "\n",
        "print(\"Alturas na ordem inversa:\")\n",
        "for altura in reversed(alturas):\n",
        "    print(f\"{altura:.2f} metros\")"
      ],
      "metadata": {
        "colab": {
          "base_uri": "https://localhost:8080/"
        },
        "id": "qYdzCd6XIDb2",
        "outputId": "bf31c1b3-5f40-4ce0-bfd8-9a43b06657ee"
      },
      "execution_count": 21,
      "outputs": [
        {
          "output_type": "stream",
          "name": "stdout",
          "text": [
            "Digite a idade da pessoa 1: 16\n",
            "Digite a altura da pessoa 1 (em metros): 1.6\n",
            "Digite a idade da pessoa 2: 66\n",
            "Digite a altura da pessoa 2 (em metros): 1.8\n",
            "Digite a idade da pessoa 3: 54\n",
            "Digite a altura da pessoa 3 (em metros): 1.7\n",
            "Digite a idade da pessoa 4: 25\n",
            "Digite a altura da pessoa 4 (em metros): 1.4\n",
            "Digite a idade da pessoa 5: 10\n",
            "Digite a altura da pessoa 5 (em metros): 1.3\n",
            "Idades na ordem inversa:\n",
            "10\n",
            "25\n",
            "54\n",
            "66\n",
            "16\n",
            "Alturas na ordem inversa:\n",
            "1.30 metros\n",
            "1.40 metros\n",
            "1.70 metros\n",
            "1.80 metros\n",
            "1.60 metros\n"
          ]
        }
      ]
    },
    {
      "cell_type": "code",
      "source": [
        "# Ex 9\n",
        "# Faça um Programa que leia um vetor A com 10 números inteiros,\n",
        "# calcule e mostre a soma dos quadrados dos elementos do vetor.\n",
        "\n",
        "vetor_A = []\n",
        "\n",
        "for i in range(1, 11):\n",
        "    numero = int(input(f\"Digite o {i}º número inteiro: \"))\n",
        "    vetor_A.append(numero)\n",
        "\n",
        "soma_quadrados = sum(x ** 2 for x in vetor_A)\n",
        "\n",
        "print(f\"Soma dos quadrados dos elementos do vetor: {soma_quadrados}\")"
      ],
      "metadata": {
        "colab": {
          "base_uri": "https://localhost:8080/"
        },
        "id": "QaFAQRWKIJGK",
        "outputId": "54360770-7283-478b-de71-7c1c3f905315"
      },
      "execution_count": 22,
      "outputs": [
        {
          "output_type": "stream",
          "name": "stdout",
          "text": [
            "Digite o 1º número inteiro: 4\n",
            "Digite o 2º número inteiro: 5\n",
            "Digite o 3º número inteiro: 6\n",
            "Digite o 4º número inteiro: 8\n",
            "Digite o 5º número inteiro: 2\n",
            "Digite o 6º número inteiro: 1\n",
            "Digite o 7º número inteiro: 3\n",
            "Digite o 8º número inteiro: 6\n",
            "Digite o 9º número inteiro: 5\n",
            "Digite o 10º número inteiro: 4\n",
            "Soma dos quadrados dos elementos do vetor: 232\n"
          ]
        }
      ]
    },
    {
      "cell_type": "code",
      "source": [
        "# Ex 10\n",
        "# Faça um Programa que leia dois vetores com 10 elementos cada.\n",
        "# Gere um terceiro vetor de 20 elementos,\n",
        "# cujos valores deverão ser compostos pelos elementos intercalados dos dois outros vetores.\n",
        "\n",
        "\n",
        "vetor_A = []\n",
        "vetor_B = []\n",
        "\n",
        "for i in range(1, 11):\n",
        "    elemento_A = int(input(f\"Digite o {i}º elemento do vetor A: \"))\n",
        "    vetor_A.append(elemento_A)\n",
        "\n",
        "for i in range(1, 11):\n",
        "    elemento_B = int(input(f\"Digite o {i}º elemento do vetor B: \"))\n",
        "    vetor_B.append(elemento_B)\n",
        "\n",
        "vetor_C = []\n",
        "for i in range(10):\n",
        "    vetor_C.append(vetor_A[i])\n",
        "    vetor_C.append(vetor_B[i])\n",
        "\n",
        "print(\"Vetor C intercalado:\")\n",
        "print(vetor_C)\n",
        "4"
      ],
      "metadata": {
        "colab": {
          "base_uri": "https://localhost:8080/"
        },
        "id": "Umicqhb5INMR",
        "outputId": "e6792c5a-ce14-421b-d258-1593ea849777"
      },
      "execution_count": 23,
      "outputs": [
        {
          "output_type": "stream",
          "name": "stdout",
          "text": [
            "Digite o 1º elemento do vetor A: 4\n",
            "Digite o 2º elemento do vetor A: 5\n",
            "Digite o 3º elemento do vetor A: 6\n",
            "Digite o 4º elemento do vetor A: 8\n",
            "Digite o 5º elemento do vetor A: 4\n",
            "Digite o 6º elemento do vetor A: 6\n",
            "Digite o 7º elemento do vetor A: 2\n",
            "Digite o 8º elemento do vetor A: 5\n",
            "Digite o 9º elemento do vetor A: 4\n",
            "Digite o 10º elemento do vetor A: 6\n",
            "Digite o 1º elemento do vetor B: 10\n",
            "Digite o 2º elemento do vetor B: 2\n",
            "Digite o 3º elemento do vetor B: 3\n",
            "Digite o 4º elemento do vetor B: 6\n",
            "Digite o 5º elemento do vetor B: 5\n",
            "Digite o 6º elemento do vetor B: 8\n",
            "Digite o 7º elemento do vetor B: 6\n",
            "Digite o 8º elemento do vetor B: 3\n",
            "Digite o 9º elemento do vetor B: 2\n",
            "Digite o 10º elemento do vetor B: 5\n",
            "Vetor C intercalado:\n",
            "[4, 10, 5, 2, 6, 3, 8, 6, 4, 5, 6, 8, 2, 6, 5, 3, 4, 2, 6, 5]\n"
          ]
        }
      ]
    }
  ]
}
